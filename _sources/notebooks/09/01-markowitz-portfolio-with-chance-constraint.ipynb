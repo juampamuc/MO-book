{
 "cells": [
  {
   "cell_type": "markdown",
   "id": "6b0b3c2f-3aaa-43fe-a8d0-2b696df5c1a6",
   "metadata": {
    "tags": []
   },
   "source": [
    "```{index} single: application; portfolio\n",
    "```\n",
    "```{index} single: application; investment\n",
    "```\n",
    "```{index} single: solver; cplex\n",
    "```\n",
    "```{index} chance constraints\n",
    "```\n",
    "# 9.1 Markowitz portfolio optimization with chance constraints"
   ]
  },
  {
   "cell_type": "markdown",
   "metadata": {},
   "source": [
    "## Preamble: Install Pyomo and a solver\n",
    "\n",
    "This cell selects and verifies a global SOLVER for the notebook. If run on Google Colab, the cell installs Pyomo and the ipopt solver via the IDEAS repository, then sets SOLVER to use the ipopt solver. If run elsewhere, it assumes Pyomo and the Mosek solver have been previously installed and sets SOLVER to use the Mosek solver via the Pyomo SolverFactory. It then verifies that SOLVER is available."
   ]
  },
  {
   "cell_type": "code",
   "execution_count": 1,
   "id": "5da22c67-5c34-4c3a-90a4-61222899e855",
   "metadata": {
    "tags": []
   },
   "outputs": [],
   "source": [
    "import sys, os\n",
    "\n",
    "if 'google.colab' in sys.modules:\n",
    "    %pip install idaes-pse --pre >/dev/null 2>/dev/null\n",
    "    !idaes get-extensions --to ./bin \n",
    "    os.environ['PATH'] += ':bin'\n",
    "    solver = \"ipopt\"\n",
    "else:\n",
    "    solver = \"mosek_direct\"\n",
    "\n",
    "import pyomo.environ as pyo \n",
    "SOLVER = pyo.SolverFactory(solver)\n",
    "assert SOLVER.available(), f\"Solver {solver} is not available.\""
   ]
  },
  {
   "cell_type": "code",
   "execution_count": 2,
   "id": "b13edf26",
   "metadata": {
    "tags": []
   },
   "outputs": [],
   "source": [
    "from IPython.display import Markdown, HTML\n",
    "import pyomo.environ as pyo\n",
    "import numpy as np\n",
    "from scipy.stats import norm"
   ]
  },
  {
   "cell_type": "markdown",
   "id": "a82bd88d-7b16-4c82-b0b7-5dbd0d81b71c",
   "metadata": {
    "jp-MarkdownHeadingCollapsed": true,
    "tags": []
   },
   "source": [
    "## Problem description\n",
    "We consider here another variant of the Markowitz portfolio optimization problem, which we already encountered in the context of convex optimization [here](../05/03-markowitz_portfolio.ipynb) and in the context of conic optimization [here](../06/03-markowitz_portfolio_revisited.ipynb).\n",
    "\n",
    "Assuming there is an initial unit capital $C$ that needs to be invested in a selection of $n$ possible assets, each of them with a unknown return rate $r_i$, $i=1,\\dots,n$. Let $x$ be the vector whose $i$-th component $x_i$ describes the fraction of the capital invested in asset $i$. The return rate vector $r$ can be modelled by a multivariate Gaussian distribution with mean $\\mu$ and covariance $\\Sigma$. Assume there is also a risk-free asset with guaranteed return rate $R$ and let $\\tilde{x}$ the amount invested in that asset. We want to determine the portfolio that maximizes the _expected_ return $\\mathbb{E} ( R \\tilde{x} + r^\\top x )$, which in view of our assumptions rewrites as $ \\mathbb{E} ( R \\tilde{x} + r^\\top x ) = R \\tilde{x} + \\mu^\\top x$.\n",
    "\n",
    "Additionally, we include a _loss risk chance constraint_ of the form \n",
    "\n",
    "$$\n",
    "\\mathbb{P} ( r^\\top x \\leq \\alpha) \\leq \\beta.\n",
    "$$ \n",
    "\n",
    "Thanks to the assumption that $r$ is multivariate Gaussian, this chance constraint can be equivalently rewritten as\n",
    "\n",
    "$$\n",
    "    \\mu^\\top x \\geq \\Phi^{-1}(1-\\beta) \\| \\Sigma^{1/2} r \\|_2 + \\alpha,\n",
    "$$\n",
    "\n",
    "which the theory guarantees to be a convex constraint if $\\beta \\leq 1/2$. The resulting portfolio optimization problem written as a SOCP is\n",
    "\n",
    "$$\n",
    "\\begin{align*}\n",
    "    \\max \\; & R \\tilde{x} + \\mu^\\top x\\\\\n",
    "    \\quad \\text{ s.t. } & \\Phi^{-1}(1-\\beta) \\| \\Sigma^{1/2} x \\|_2 \\leq \\mu^\\top x - \\alpha,\\\\\n",
    "    & \\sum_{i=1}^n x_i + \\tilde{x} = C, \\\\\n",
    "    & \\tilde{x} \\geq 0 \\\\\n",
    "    &  x_i \\geq 0 & i=1,\\dots,n.\n",
    "\\end{align*}\n",
    "$$\n",
    "\n",
    "We now implement as a Pyomo model and solve it for $n=3$, $\\alpha = 0.6$, $\\beta =0.3$, the given vector $\\mu$ and semi-definite positive covariance matrix $\\Sigma$."
   ]
  },
  {
   "cell_type": "code",
   "execution_count": 3,
   "id": "0e194e8d",
   "metadata": {
    "tags": []
   },
   "outputs": [
    {
     "name": "stdout",
     "output_type": "stream",
     "text": [
      "Solver status: ok, Termination condition: optimal\n",
      "Solution: xtilde = 0.070, x_1 = 0.620, x_2 = 0.239, x_3 = 0.071\n",
      "Maximum objective value: 1.23\n"
     ]
    }
   ],
   "source": [
    "# set our risk threshold and risk levels (sometimes you may get an infeasible\n",
    "# problem if the chance constraint becomes too tight!)\n",
    "alpha = 0.6\n",
    "beta = 0.3\n",
    "\n",
    "# specify the initial capital, the risk-free return the number of risky assets,\n",
    "# their expected returns, and their covariance matrix.\n",
    "C = 1\n",
    "R = 1.25\n",
    "n = 3\n",
    "mu = np.array([1.25, 1.15, 1.35])\n",
    "Sigma = np.array([[1.5, 0.5, 2], [0.5, 2, 0], [2, 0, 5]])\n",
    "\n",
    "# Check how dramatically the optimal solution changes if we assume i.i.d.\n",
    "# deviations for the returns. # Sigma = np.array([[1, 0, 0], [0, 1, 0], [0, 0, 1]])\n",
    "\n",
    "# To change covariance matrix, make sure you input a semi-definite positive one.\n",
    "# The easiest way to generate a random covariance matrix is first generating\n",
    "# a random m x m matrix A and then taking the matrix A^T A (which is always\n",
    "# semi-definite positive)\n",
    "# m = 3\n",
    "# A = np.random.rand(m, m)\n",
    "# Sigma = A.T @ A\n",
    "\n",
    "\n",
    "def markowitz_chanceconstraints(alpha, beta, mu, Sigma):\n",
    "    model = pyo.ConcreteModel(\"Markowitz portfolio problem with chance constraints\")\n",
    "\n",
    "    model.x = pyo.Var(range(n), domain=pyo.NonNegativeReals)\n",
    "    model.xtilde = pyo.Var(domain=pyo.NonNegativeReals)\n",
    "\n",
    "    @model.Objective(sense=pyo.maximize)\n",
    "    def objective(m):\n",
    "        return mu @ m.x + R * m.xtilde\n",
    "\n",
    "    @model.Constraint()\n",
    "    def chance_constraint(m):\n",
    "        # we use the inverse CDF of the standard normal norm.ppf() in the library scipy.stats\n",
    "        return norm.ppf(1 - beta) * (m.x @ (Sigma @ m.x)) <= (mu @ m.x - alpha)\n",
    "\n",
    "    @model.Constraint()\n",
    "    def total_assets(m):\n",
    "        return m.xtilde + sum(m.x[i] for i in range(n)) == C\n",
    "\n",
    "    return model\n",
    "\n",
    "\n",
    "model = markowitz_chanceconstraints(alpha, beta, mu, Sigma)\n",
    "result = SOLVER.solve(model)\n",
    "\n",
    "print(\n",
    "    f\"Solver status: {result.solver.status}, Termination condition: {result.solver.termination_condition}\"\n",
    ")\n",
    "print(f\"Solution: \", end=\"\")\n",
    "print(\n",
    "    f\"xtilde = {model.xtilde.value:.3f}, x_1 = {model.x[0].value:.3f}, x_2 = {model.x[1].value:.3f}, x_3 = {model.x[2].value:.3f}\"\n",
    ")\n",
    "print(f\"Maximum objective value: {model.objective():.2f}\")"
   ]
  }
 ],
 "metadata": {
  "kernelspec": {
   "display_name": "Python 3 (ipykernel)",
   "language": "python",
   "name": "python3"
  },
  "language_info": {
   "codemirror_mode": {
    "name": "ipython",
    "version": 3
   },
   "file_extension": ".py",
   "mimetype": "text/x-python",
   "name": "python",
   "nbconvert_exporter": "python",
   "pygments_lexer": "ipython3",
   "version": "3.10.10"
  },
  "varInspector": {
   "cols": {
    "lenName": 16,
    "lenType": 16,
    "lenVar": 40
   },
   "kernels_config": {
    "python": {
     "delete_cmd_postfix": "",
     "delete_cmd_prefix": "del ",
     "library": "var_list.py",
     "varRefreshCmd": "print(var_dic_list())"
    },
    "r": {
     "delete_cmd_postfix": ") ",
     "delete_cmd_prefix": "rm(",
     "library": "var_list.r",
     "varRefreshCmd": "cat(var_dic_list()) "
    }
   },
   "types_to_exclude": [
    "module",
    "function",
    "builtin_function_or_method",
    "instance",
    "_Feature"
   ],
   "window_display": false
  }
 },
 "nbformat": 4,
 "nbformat_minor": 5
}
