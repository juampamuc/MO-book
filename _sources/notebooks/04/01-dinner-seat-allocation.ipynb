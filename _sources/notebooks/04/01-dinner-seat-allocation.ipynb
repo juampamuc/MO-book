{
 "cells": [
  {
   "cell_type": "markdown",
   "metadata": {
    "id": "uRtp1E6mSnM2"
   },
   "source": [
    "```{index} single: application; seating allocation\n",
    "```\n",
    "```{index} single: solver; HiGHS\n",
    "```\n",
    "```{index} single: solver; cbc\n",
    "```\n",
    "```{index} single: solver; Gurobi\n",
    "```\n",
    "```{index} single: Pyomo; parameters\n",
    "```\n",
    "```{index} single: Pyomo; sets\n",
    "```\n",
    "```{index} network optimization\n",
    "```\n",
    "```{index} max flow problem\n",
    "```\n",
    "```{index} networkx\n",
    "```\n",
    "```{index} feasibility problem\n",
    "```\n",
    "\n",
    "# 4.1 Dinner seating arrangement"
   ]
  },
  {
   "cell_type": "markdown",
   "metadata": {},
   "source": [
    "## Preamble: Install Pyomo and a solver\n",
    "\n",
    "The following cell sets and verifies a global SOLVER for the notebook. If run on Google Colab, the cell installs Pyomo and the HiGHS solver, while, if run elsewhere, it assumes Pyomo and HiGHS have been previously installed. It then sets to use HiGHS as solver via the appsi module and a test is performed to verify that it is available. The solver interface is stored in a global object `SOLVER` for later use."
   ]
  },
  {
   "cell_type": "code",
   "execution_count": 1,
   "metadata": {
    "colab": {
     "base_uri": "https://localhost:8080/"
    },
    "id": "5ssUqKOaPVaE",
    "outputId": "38c1005a-39f4-4307-e305-19a4c9819396"
   },
   "outputs": [],
   "source": [
    "import sys\n",
    " \n",
    "if 'google.colab' in sys.modules:\n",
    "    %pip install pyomo >/dev/null 2>/dev/null\n",
    "    %pip install highspy >/dev/null 2>/dev/null\n",
    " \n",
    "solver = 'appsi_highs'\n",
    " \n",
    "import pyomo.environ as pyo\n",
    "SOLVER = pyo.SolverFactory(solver)\n",
    "\n",
    "assert SOLVER.available(), f\"Solver {solver} is not available.\""
   ]
  },
  {
   "cell_type": "markdown",
   "metadata": {
    "id": "uRtp1E6mSnM2"
   },
   "source": [
    "## Problem description\n",
    "\n",
    "Assume that we are organizing a wedding dinner and our goal is to have guests from different families mingle with each other as much as possible. One way to do this is to seat people at tables so that no more people than a given threshold $k_{\\max}$ from the same family sit at the same table. How could we solve a problem like this? \n",
    "\n",
    "First, we need the problem data. For each family $f \\in F$ we need to know the number of its members $m_f$, and for each table $t \\in T$ we need to know its capacity $c_t$. Using these data and the tools we have learned so far, we can formulate this problem as a LO problem.\n",
    "\n",
    "If we are not concerned about specific individuals, but only about the number of people in a given family, then we can use variable $x_{ft}$ to determine the number of people in family $f$ who will sit at table $t$. In the problem formulation, we were not given any objective function, since our goal is to find a feasible seating arrangement. For this reason, we can set the objective function to a constant value, say $0$, and, in this way, do not differentiate between the various feasible solutions. \n",
    "\n",
    "The mathematical formulation of this seating allocation problem is:\n",
    "\n",
    "$$\n",
    "\\begin{align*}\n",
    "    \\min \\quad & 0\\\\\n",
    "    \\text{s.t.} \\quad & \\sum\\limits_{f} x_{ft} \\leq c_t && \\forall \\, t \\in T \\\\\n",
    "    & \\sum\\limits_{t} x_{ft} = m_f && \\forall \\, f \\in F \\\\\n",
    "    & 0 \\leq x_{ft} \\leq k_{\\max}.\n",
    "\\end{align*}\n",
    "$$\n",
    "\n",
    "The constraints ensure that the seating capacity for each table is not exceeded, that each family is fully seated, and that the number of elements of each family at each table does not exceed the threshold $k$."
   ]
  },
  {
   "cell_type": "markdown",
   "metadata": {
    "id": "AqUu7i2kxV98"
   },
   "source": [
    "## Implementation\n",
    "\n",
    "The problem statement will be satisfied by finding a feasible solution, if one exists. Because no specific objective has been specified, the mathematical formulation uses a constant 0 as essentially a placeholder for the objective function. Some optimization solvers, however, issue warning messages if they detect a constant objective, and others will fail to execute at all. A simple work around for these cases is to replace the constant objective with a 'dummy' variable that doesn't  appear elsewhere in the optimization problem. "
   ]
  },
  {
   "cell_type": "code",
   "execution_count": 2,
   "metadata": {
    "id": "g3Jo-pwb4ltx"
   },
   "outputs": [],
   "source": [
    "import pyomo.environ as pyo\n",
    "from IPython.display import display\n",
    "import networkx as nx\n",
    "import matplotlib.pyplot as plt\n",
    "import pandas as pd\n",
    "import numpy as np\n",
    "\n",
    "\n",
    "def seat_allocation(members, capacity, kmax, domain=pyo.NonNegativeReals):\n",
    "    m = pyo.ConcreteModel(\"Seating arrangement\")\n",
    "\n",
    "    m.F = pyo.Set(initialize=range(len(members)))\n",
    "    m.T = pyo.Set(initialize=range(len(capacity)))\n",
    "\n",
    "    m.M = pyo.Param(m.F, initialize=members)\n",
    "    m.C = pyo.Param(m.T, initialize=capacity)\n",
    "\n",
    "    m.x = pyo.Var(m.F, m.T, bounds=(0, kmax), domain=domain)\n",
    "    m.dummy = pyo.Var(bounds=(0, 1), initialize=0)\n",
    "\n",
    "    @m.Objective(sense=pyo.minimize)\n",
    "    def goal(m):\n",
    "        return m.dummy\n",
    "\n",
    "    @m.Constraint(m.T)\n",
    "    def capacity(m, t):\n",
    "        return pyo.quicksum(m.x[f, t] for f in m.F) <= m.C[t]\n",
    "\n",
    "    @m.Constraint(m.F)\n",
    "    def seat(m, f):\n",
    "        return pyo.quicksum(m.x[f, t] for t in m.T) == m.M[f]\n",
    "\n",
    "    return m\n",
    "\n",
    "\n",
    "def get_solution(model):\n",
    "    df = pd.DataFrame()\n",
    "    for idx, x in model.x.items():\n",
    "        f, t = idx\n",
    "        df.loc[f, t] = x()\n",
    "    df.index.name = \"family\"\n",
    "    df.columns = [f\"table {i}\" for i in model.T]\n",
    "    return df.round(5)\n",
    "\n",
    "\n",
    "def report(model, results, type=int, verbose=False):\n",
    "    if verbose:\n",
    "        print(f\"Solver status: {results.solver.status}\")\n",
    "        print(f\"Termination condition: {results.solver.termination_condition}\")\n",
    "    if results.solver.termination_condition == \"optimal\":\n",
    "        soln = get_solution(model).astype(type)\n",
    "        display(soln)\n",
    "        print(f\"objective:       {pyo.value(model.goal)}\")\n",
    "        print(f\"places at table: {list(soln.sum(axis=0).round(1))}\")\n",
    "        print(f\"members seated:  {list(soln.sum(axis=1).round(1))}\")"
   ]
  },
  {
   "cell_type": "markdown",
   "metadata": {},
   "source": [
    "Let us now consider and solve a specific instance of this problem with six families with sizes $m = (6, 8, 2, 9, 13, 1)$, five tables with capacities $c = (8, 8, 10, 4, 9)$, and a threshold $k=3$ for the number of members of each family that can be seated at the same table. "
   ]
  },
  {
   "cell_type": "code",
   "execution_count": 3,
   "metadata": {
    "colab": {
     "base_uri": "https://localhost:8080/",
     "height": 337
    },
    "executionInfo": {
     "elapsed": 293,
     "status": "ok",
     "timestamp": 1623769075200,
     "user": {
      "displayName": "Joaquim Gromicho",
      "photoUrl": "",
      "userId": "14375950305363805729"
     },
     "user_tz": -120
    },
    "id": "glauQ3YqSnM6",
    "outputId": "5d75d95c-4176-4d59-f4fa-4d1d27adbdf4"
   },
   "outputs": [
    {
     "data": {
      "text/html": [
       "<div>\n",
       "<style scoped>\n",
       "    .dataframe tbody tr th:only-of-type {\n",
       "        vertical-align: middle;\n",
       "    }\n",
       "\n",
       "    .dataframe tbody tr th {\n",
       "        vertical-align: top;\n",
       "    }\n",
       "\n",
       "    .dataframe thead th {\n",
       "        text-align: right;\n",
       "    }\n",
       "</style>\n",
       "<table border=\"1\" class=\"dataframe\">\n",
       "  <thead>\n",
       "    <tr style=\"text-align: right;\">\n",
       "      <th></th>\n",
       "      <th>table 0</th>\n",
       "      <th>table 1</th>\n",
       "      <th>table 2</th>\n",
       "      <th>table 3</th>\n",
       "      <th>table 4</th>\n",
       "    </tr>\n",
       "    <tr>\n",
       "      <th>family</th>\n",
       "      <th></th>\n",
       "      <th></th>\n",
       "      <th></th>\n",
       "      <th></th>\n",
       "      <th></th>\n",
       "    </tr>\n",
       "  </thead>\n",
       "  <tbody>\n",
       "    <tr>\n",
       "      <th>0</th>\n",
       "      <td>0.0</td>\n",
       "      <td>1.0</td>\n",
       "      <td>2.0</td>\n",
       "      <td>0.0</td>\n",
       "      <td>3.0</td>\n",
       "    </tr>\n",
       "    <tr>\n",
       "      <th>1</th>\n",
       "      <td>3.0</td>\n",
       "      <td>0.0</td>\n",
       "      <td>2.0</td>\n",
       "      <td>0.0</td>\n",
       "      <td>3.0</td>\n",
       "    </tr>\n",
       "    <tr>\n",
       "      <th>2</th>\n",
       "      <td>0.0</td>\n",
       "      <td>0.0</td>\n",
       "      <td>0.0</td>\n",
       "      <td>2.0</td>\n",
       "      <td>0.0</td>\n",
       "    </tr>\n",
       "    <tr>\n",
       "      <th>3</th>\n",
       "      <td>2.0</td>\n",
       "      <td>3.0</td>\n",
       "      <td>3.0</td>\n",
       "      <td>0.0</td>\n",
       "      <td>1.0</td>\n",
       "    </tr>\n",
       "    <tr>\n",
       "      <th>4</th>\n",
       "      <td>3.0</td>\n",
       "      <td>3.0</td>\n",
       "      <td>3.0</td>\n",
       "      <td>2.0</td>\n",
       "      <td>2.0</td>\n",
       "    </tr>\n",
       "    <tr>\n",
       "      <th>5</th>\n",
       "      <td>0.0</td>\n",
       "      <td>1.0</td>\n",
       "      <td>0.0</td>\n",
       "      <td>0.0</td>\n",
       "      <td>0.0</td>\n",
       "    </tr>\n",
       "  </tbody>\n",
       "</table>\n",
       "</div>"
      ],
      "text/plain": [
       "        table 0  table 1  table 2  table 3  table 4\n",
       "family                                             \n",
       "0           0.0      1.0      2.0      0.0      3.0\n",
       "1           3.0      0.0      2.0      0.0      3.0\n",
       "2           0.0      0.0      0.0      2.0      0.0\n",
       "3           2.0      3.0      3.0      0.0      1.0\n",
       "4           3.0      3.0      3.0      2.0      2.0\n",
       "5           0.0      1.0      0.0      0.0      0.0"
      ]
     },
     "metadata": {},
     "output_type": "display_data"
    },
    {
     "name": "stdout",
     "output_type": "stream",
     "text": [
      "objective:       0.0\n",
      "places at table: [8.0, 8.0, 10.0, 4.0, 9.0]\n",
      "members seated:  [6.0, 8.0, 2.0, 9.0, 13.0, 1.0]\n"
     ]
    }
   ],
   "source": [
    "seatplan = seat_allocation(\n",
    "    members=[6, 8, 2, 9, 13, 1], capacity=[8, 8, 10, 4, 9], kmax=3\n",
    ")\n",
    "results = SOLVER.solve(seatplan)\n",
    "report(seatplan, results, type=float)"
   ]
  },
  {
   "cell_type": "markdown",
   "metadata": {},
   "source": [
    "A peculiar fact is that although we did not explicitly require that all variables $x_{ft}$ be integer, the optimal solution turned out to be integer anyway. This is no coincidence as it follows from a certain property of the problem we solve. This also means we can solve  larger versions of this problem with LO instead of MILO solvers to find integer solutions, gaining a large computational advantage."
   ]
  },
  {
   "cell_type": "markdown",
   "metadata": {},
   "source": [
    "## Minimize the maximum group size\n",
    "\n",
    "Our objective was that we make members of different families mingle as much as possible. Is $k_{\\max} = 3$ the lowest possible number for which a feasible table allocation exists or can we make the tables even more diverse by bringing this number down?\n",
    "\n",
    "In order to find out, we can make $k=k_{\\max}$ a decision variable and change the objective function as to minimize $k$, obtaining the following problem:\n",
    "\n",
    "$$\n",
    "\\begin{align*}\n",
    "    \\min \\quad & k \\\\\n",
    "    \\text{s.t.} \\quad & \\sum_{f} x_{ft} \\leq c_t && \\forall \\, t \\in T \\nonumber \\\\\n",
    "    & \\sum_{t} x_{ft} = m_f && \\forall \\, f \\in F \\nonumber \\\\\n",
    "    & 0 \\leq x_{ft} \\leq k  && \\forall f \\in F, t \\in T \\nonumber \\\\\n",
    "    & k \\geq 0. \\nonumber\n",
    "\\end{align*}\n",
    "$$"
   ]
  },
  {
   "cell_type": "code",
   "execution_count": 4,
   "metadata": {
    "id": "GJxtvN9gS2xW"
   },
   "outputs": [],
   "source": [
    "def seat_allocation_minimize_group_size(members, capacity, domain=pyo.NonNegativeReals):\n",
    "    m = pyo.ConcreteModel(\"Seating arrangement minimizing the maximum group size\")\n",
    "\n",
    "    m.F = pyo.Set(initialize=range(len(members)))\n",
    "    m.T = pyo.Set(initialize=range(len(capacity)))\n",
    "\n",
    "    m.M = pyo.Param(m.F, initialize=members)\n",
    "    m.C = pyo.Param(m.T, initialize=capacity)\n",
    "\n",
    "    m.x = pyo.Var(m.F, m.T, domain=domain)\n",
    "    m.k = pyo.Var(domain=domain)\n",
    "\n",
    "    @m.Objective(sense=pyo.minimize)\n",
    "    def goal(m):\n",
    "        return m.k\n",
    "\n",
    "    @m.Constraint(m.T)\n",
    "    def capacity(m, t):\n",
    "        return pyo.quicksum(m.x[f, t] for f in m.F) <= m.C[t]\n",
    "\n",
    "    @m.Constraint(m.F)\n",
    "    def seat(m, f):\n",
    "        return pyo.quicksum(m.x[f, t] for t in m.T) == m.M[f]\n",
    "\n",
    "    @m.Constraint(m.F, m.T)\n",
    "    def bound(m, f, t):\n",
    "        return m.x[f, t] <= m.k\n",
    "\n",
    "    return m"
   ]
  },
  {
   "cell_type": "markdown",
   "metadata": {},
   "source": [
    "We now solve the same instance as before."
   ]
  },
  {
   "cell_type": "code",
   "execution_count": 5,
   "metadata": {
    "colab": {
     "base_uri": "https://localhost:8080/",
     "height": 337
    },
    "executionInfo": {
     "elapsed": 269,
     "status": "ok",
     "timestamp": 1623768701481,
     "user": {
      "displayName": "Joaquim Gromicho",
      "photoUrl": "",
      "userId": "14375950305363805729"
     },
     "user_tz": -120
    },
    "id": "amuwHXmGt_va",
    "outputId": "9056e7b0-1a7e-4017-e31b-ecbffa4a312b"
   },
   "outputs": [
    {
     "data": {
      "text/html": [
       "<div>\n",
       "<style scoped>\n",
       "    .dataframe tbody tr th:only-of-type {\n",
       "        vertical-align: middle;\n",
       "    }\n",
       "\n",
       "    .dataframe tbody tr th {\n",
       "        vertical-align: top;\n",
       "    }\n",
       "\n",
       "    .dataframe thead th {\n",
       "        text-align: right;\n",
       "    }\n",
       "</style>\n",
       "<table border=\"1\" class=\"dataframe\">\n",
       "  <thead>\n",
       "    <tr style=\"text-align: right;\">\n",
       "      <th></th>\n",
       "      <th>table 0</th>\n",
       "      <th>table 1</th>\n",
       "      <th>table 2</th>\n",
       "      <th>table 3</th>\n",
       "      <th>table 4</th>\n",
       "    </tr>\n",
       "    <tr>\n",
       "      <th>family</th>\n",
       "      <th></th>\n",
       "      <th></th>\n",
       "      <th></th>\n",
       "      <th></th>\n",
       "      <th></th>\n",
       "    </tr>\n",
       "  </thead>\n",
       "  <tbody>\n",
       "    <tr>\n",
       "      <th>0</th>\n",
       "      <td>2.6</td>\n",
       "      <td>0.0</td>\n",
       "      <td>2.2</td>\n",
       "      <td>0.0</td>\n",
       "      <td>1.2</td>\n",
       "    </tr>\n",
       "    <tr>\n",
       "      <th>1</th>\n",
       "      <td>0.2</td>\n",
       "      <td>1.8</td>\n",
       "      <td>2.6</td>\n",
       "      <td>1.4</td>\n",
       "      <td>2.0</td>\n",
       "    </tr>\n",
       "    <tr>\n",
       "      <th>2</th>\n",
       "      <td>0.0</td>\n",
       "      <td>0.0</td>\n",
       "      <td>0.0</td>\n",
       "      <td>0.0</td>\n",
       "      <td>2.0</td>\n",
       "    </tr>\n",
       "    <tr>\n",
       "      <th>3</th>\n",
       "      <td>2.6</td>\n",
       "      <td>2.6</td>\n",
       "      <td>2.6</td>\n",
       "      <td>0.0</td>\n",
       "      <td>1.2</td>\n",
       "    </tr>\n",
       "    <tr>\n",
       "      <th>4</th>\n",
       "      <td>2.6</td>\n",
       "      <td>2.6</td>\n",
       "      <td>2.6</td>\n",
       "      <td>2.6</td>\n",
       "      <td>2.6</td>\n",
       "    </tr>\n",
       "    <tr>\n",
       "      <th>5</th>\n",
       "      <td>0.0</td>\n",
       "      <td>1.0</td>\n",
       "      <td>0.0</td>\n",
       "      <td>0.0</td>\n",
       "      <td>0.0</td>\n",
       "    </tr>\n",
       "  </tbody>\n",
       "</table>\n",
       "</div>"
      ],
      "text/plain": [
       "        table 0  table 1  table 2  table 3  table 4\n",
       "family                                             \n",
       "0           2.6      0.0      2.2      0.0      1.2\n",
       "1           0.2      1.8      2.6      1.4      2.0\n",
       "2           0.0      0.0      0.0      0.0      2.0\n",
       "3           2.6      2.6      2.6      0.0      1.2\n",
       "4           2.6      2.6      2.6      2.6      2.6\n",
       "5           0.0      1.0      0.0      0.0      0.0"
      ]
     },
     "metadata": {},
     "output_type": "display_data"
    },
    {
     "name": "stdout",
     "output_type": "stream",
     "text": [
      "objective:       2.6\n",
      "places at table: [8.0, 8.0, 10.0, 4.0, 9.0]\n",
      "members seated:  [6.0, 8.0, 2.0, 9.0, 13.0, 1.0]\n"
     ]
    }
   ],
   "source": [
    "seatplan = seat_allocation_minimize_group_size(\n",
    "    members=[6, 8, 2, 9, 13, 1], capacity=[8, 8, 10, 4, 9], domain=pyo.NonNegativeReals\n",
    ")\n",
    "results = SOLVER.solve(seatplan)\n",
    "report(seatplan, results, type=float)"
   ]
  },
  {
   "cell_type": "markdown",
   "metadata": {},
   "source": [
    "Unfortunately, this solution is no longer integer. Mathematically, this is because the \"structure\" that previously ensured integer solutions at no extra cost has been lost as a result of making $k$ a decision variable. To find the solution to this problem we need to impose that the variables are integers.\n",
    "\n",
    "Using an MILO solver such as `HiGHS` and specifying the desired domain for the variables using `domain=pyo.NonNegativeIntegers`, we can recover the original optimal value $k = 3$."
   ]
  },
  {
   "cell_type": "code",
   "execution_count": 6,
   "metadata": {
    "colab": {
     "base_uri": "https://localhost:8080/",
     "height": 337
    },
    "executionInfo": {
     "elapsed": 264,
     "status": "ok",
     "timestamp": 1623769068597,
     "user": {
      "displayName": "Joaquim Gromicho",
      "photoUrl": "",
      "userId": "14375950305363805729"
     },
     "user_tz": -120
    },
    "id": "ouJSU34n38KF",
    "outputId": "7e40163d-ddd3-4a07-9009-fd40d68b52c0"
   },
   "outputs": [
    {
     "data": {
      "text/html": [
       "<div>\n",
       "<style scoped>\n",
       "    .dataframe tbody tr th:only-of-type {\n",
       "        vertical-align: middle;\n",
       "    }\n",
       "\n",
       "    .dataframe tbody tr th {\n",
       "        vertical-align: top;\n",
       "    }\n",
       "\n",
       "    .dataframe thead th {\n",
       "        text-align: right;\n",
       "    }\n",
       "</style>\n",
       "<table border=\"1\" class=\"dataframe\">\n",
       "  <thead>\n",
       "    <tr style=\"text-align: right;\">\n",
       "      <th></th>\n",
       "      <th>table 0</th>\n",
       "      <th>table 1</th>\n",
       "      <th>table 2</th>\n",
       "      <th>table 3</th>\n",
       "      <th>table 4</th>\n",
       "    </tr>\n",
       "    <tr>\n",
       "      <th>family</th>\n",
       "      <th></th>\n",
       "      <th></th>\n",
       "      <th></th>\n",
       "      <th></th>\n",
       "      <th></th>\n",
       "    </tr>\n",
       "  </thead>\n",
       "  <tbody>\n",
       "    <tr>\n",
       "      <th>0</th>\n",
       "      <td>3</td>\n",
       "      <td>0</td>\n",
       "      <td>2</td>\n",
       "      <td>0</td>\n",
       "      <td>1</td>\n",
       "    </tr>\n",
       "    <tr>\n",
       "      <th>1</th>\n",
       "      <td>0</td>\n",
       "      <td>3</td>\n",
       "      <td>3</td>\n",
       "      <td>1</td>\n",
       "      <td>1</td>\n",
       "    </tr>\n",
       "    <tr>\n",
       "      <th>2</th>\n",
       "      <td>0</td>\n",
       "      <td>0</td>\n",
       "      <td>0</td>\n",
       "      <td>0</td>\n",
       "      <td>2</td>\n",
       "    </tr>\n",
       "    <tr>\n",
       "      <th>3</th>\n",
       "      <td>2</td>\n",
       "      <td>3</td>\n",
       "      <td>2</td>\n",
       "      <td>0</td>\n",
       "      <td>2</td>\n",
       "    </tr>\n",
       "    <tr>\n",
       "      <th>4</th>\n",
       "      <td>3</td>\n",
       "      <td>1</td>\n",
       "      <td>3</td>\n",
       "      <td>3</td>\n",
       "      <td>3</td>\n",
       "    </tr>\n",
       "    <tr>\n",
       "      <th>5</th>\n",
       "      <td>0</td>\n",
       "      <td>1</td>\n",
       "      <td>0</td>\n",
       "      <td>0</td>\n",
       "      <td>0</td>\n",
       "    </tr>\n",
       "  </tbody>\n",
       "</table>\n",
       "</div>"
      ],
      "text/plain": [
       "        table 0  table 1  table 2  table 3  table 4\n",
       "family                                             \n",
       "0             3        0        2        0        1\n",
       "1             0        3        3        1        1\n",
       "2             0        0        0        0        2\n",
       "3             2        3        2        0        2\n",
       "4             3        1        3        3        3\n",
       "5             0        1        0        0        0"
      ]
     },
     "metadata": {},
     "output_type": "display_data"
    },
    {
     "name": "stdout",
     "output_type": "stream",
     "text": [
      "objective:       3.0\n",
      "places at table: [8, 8, 10, 4, 9]\n",
      "members seated:  [6, 8, 2, 9, 13, 1]\n"
     ]
    }
   ],
   "source": [
    "seatplan = seat_allocation_minimize_group_size(\n",
    "    members=[6, 8, 2, 9, 13, 1],\n",
    "    capacity=[8, 8, 10, 4, 9],\n",
    "    domain=pyo.NonNegativeIntegers,\n",
    ")\n",
    "results = SOLVER.solve(seatplan)\n",
    "report(seatplan, results, type=int)"
   ]
  },
  {
   "cell_type": "markdown",
   "metadata": {},
   "source": [
    "## Minimize number of tables"
   ]
  },
  {
   "cell_type": "markdown",
   "metadata": {},
   "source": [
    "Let us fix again to $k_{\\max} = 3$ the maximum number of family members that can be seated at the same table and focus on minimizing the number of tables used. Let us introduce a binary variable $y_t$ that is equal to 1 if table $t$ is used and 0 otherwise. We can thus consider a new optimization problem in which we minimize the sum of $y_t$ over $t=1,\\ldots,T$. The mathematical formulation of this new problem is:\n",
    "\n",
    "$$\n",
    "\\begin{align*}\n",
    "    \\min \\quad & \\sum_{t} y_t\\\\\n",
    "    \\text{s.t.} \\quad & \\sum\\limits_{f} x_{ft} \\leq c_t \\cdot y_t && \\forall \\, t \\in T \\\\\n",
    "    & \\sum\\limits_{t} x_{ft} = m_f && \\forall \\, f \\in F \\\\\n",
    "    & 0 \\leq x_{ft} \\leq k_{\\max}.\n",
    "\\end{align*}\n",
    "$$\n",
    "\n",
    "We can implement it in Pyomo as follows."
   ]
  },
  {
   "cell_type": "code",
   "execution_count": 7,
   "metadata": {
    "id": "9mHD-wjuuLg2"
   },
   "outputs": [],
   "source": [
    "def seat_allocation_minimize_tables(\n",
    "    members, capacity, kmax, domain=pyo.NonNegativeReals\n",
    "):\n",
    "    m = pyo.ConcreteModel(\"Seating arrangement minimizing the number of tables\")\n",
    "    m.F = pyo.Set(initialize=range(len(members)))\n",
    "    m.T = pyo.Set(initialize=range(len(capacity)))\n",
    "    m.M = pyo.Param(m.F, initialize=members)\n",
    "    m.C = pyo.Param(m.T, initialize=capacity)\n",
    "    m.x = pyo.Var(m.F, m.T, bounds=(0, kmax), domain=domain)\n",
    "    m.y = pyo.Var(m.T, domain=pyo.Binary)\n",
    "\n",
    "    @m.Objective(sense=pyo.minimize)\n",
    "    def goal(m):\n",
    "        return pyo.quicksum(m.y[t] for t in m.T)\n",
    "\n",
    "    @m.Constraint(m.T)\n",
    "    def capacity(m, t):\n",
    "        return pyo.quicksum(m.x[f, t] for f in m.F) <= m.C[t] * m.y[t]\n",
    "\n",
    "    @m.Constraint(m.F)\n",
    "    def seat(m, f):\n",
    "        return pyo.quicksum(m.x[f, t] for t in m.T) == m.M[f]\n",
    "\n",
    "    return m"
   ]
  },
  {
   "cell_type": "code",
   "execution_count": 8,
   "metadata": {},
   "outputs": [
    {
     "data": {
      "text/html": [
       "<div>\n",
       "<style scoped>\n",
       "    .dataframe tbody tr th:only-of-type {\n",
       "        vertical-align: middle;\n",
       "    }\n",
       "\n",
       "    .dataframe tbody tr th {\n",
       "        vertical-align: top;\n",
       "    }\n",
       "\n",
       "    .dataframe thead th {\n",
       "        text-align: right;\n",
       "    }\n",
       "</style>\n",
       "<table border=\"1\" class=\"dataframe\">\n",
       "  <thead>\n",
       "    <tr style=\"text-align: right;\">\n",
       "      <th></th>\n",
       "      <th>table 0</th>\n",
       "      <th>table 1</th>\n",
       "      <th>table 2</th>\n",
       "      <th>table 3</th>\n",
       "      <th>table 4</th>\n",
       "    </tr>\n",
       "    <tr>\n",
       "      <th>family</th>\n",
       "      <th></th>\n",
       "      <th></th>\n",
       "      <th></th>\n",
       "      <th></th>\n",
       "      <th></th>\n",
       "    </tr>\n",
       "  </thead>\n",
       "  <tbody>\n",
       "    <tr>\n",
       "      <th>0</th>\n",
       "      <td>0</td>\n",
       "      <td>2</td>\n",
       "      <td>1</td>\n",
       "      <td>0</td>\n",
       "      <td>3</td>\n",
       "    </tr>\n",
       "    <tr>\n",
       "      <th>1</th>\n",
       "      <td>0</td>\n",
       "      <td>1</td>\n",
       "      <td>3</td>\n",
       "      <td>1</td>\n",
       "      <td>3</td>\n",
       "    </tr>\n",
       "    <tr>\n",
       "      <th>2</th>\n",
       "      <td>2</td>\n",
       "      <td>0</td>\n",
       "      <td>0</td>\n",
       "      <td>0</td>\n",
       "      <td>0</td>\n",
       "    </tr>\n",
       "    <tr>\n",
       "      <th>3</th>\n",
       "      <td>3</td>\n",
       "      <td>3</td>\n",
       "      <td>3</td>\n",
       "      <td>0</td>\n",
       "      <td>0</td>\n",
       "    </tr>\n",
       "    <tr>\n",
       "      <th>4</th>\n",
       "      <td>3</td>\n",
       "      <td>1</td>\n",
       "      <td>3</td>\n",
       "      <td>3</td>\n",
       "      <td>3</td>\n",
       "    </tr>\n",
       "    <tr>\n",
       "      <th>5</th>\n",
       "      <td>0</td>\n",
       "      <td>1</td>\n",
       "      <td>0</td>\n",
       "      <td>0</td>\n",
       "      <td>0</td>\n",
       "    </tr>\n",
       "  </tbody>\n",
       "</table>\n",
       "</div>"
      ],
      "text/plain": [
       "        table 0  table 1  table 2  table 3  table 4\n",
       "family                                             \n",
       "0             0        2        1        0        3\n",
       "1             0        1        3        1        3\n",
       "2             2        0        0        0        0\n",
       "3             3        3        3        0        0\n",
       "4             3        1        3        3        3\n",
       "5             0        1        0        0        0"
      ]
     },
     "metadata": {},
     "output_type": "display_data"
    },
    {
     "name": "stdout",
     "output_type": "stream",
     "text": [
      "objective:       5.0\n",
      "places at table: [8, 8, 10, 4, 9]\n",
      "members seated:  [6, 8, 2, 9, 13, 1]\n"
     ]
    }
   ],
   "source": [
    "seatplan = seat_allocation_minimize_tables(\n",
    "    members=[6, 8, 2, 9, 13, 1],\n",
    "    capacity=[8, 8, 10, 4, 9],\n",
    "    kmax=3,\n",
    "    domain=pyo.NonNegativeIntegers,\n",
    ")\n",
    "results = SOLVER.solve(seatplan)\n",
    "report(seatplan, results, type=int)"
   ]
  },
  {
   "cell_type": "markdown",
   "metadata": {
    "id": "5klBA6ebVDf3"
   },
   "source": [
    "# Reformulation as max flow problem"
   ]
  },
  {
   "cell_type": "markdown",
   "metadata": {},
   "source": [
    "However, using an MILO solver is not necessarily the best approach for problems like this. Many real-life situations (e.g., assigning people to groups/teams) require solving really large problems. There are existing algorithms that can leverage the special **network structure** of the problem at hand and scale better than LO solvers. \n",
    "\n",
    "To illustrate this, we first visualize the seating problem using a graph where:\n",
    "* the nodes on the left-hand side stand for the families and the numbers next to them provide the family size;\n",
    "* the nodes on the left-hand side stand for the tables and the numbers next to them provide the table size;\n",
    "* each left-to-right arrow stand comes with a number denoting the capacity of arc $(f, t)$ -- how many people of family $f$ can be assigned to table $t$."
   ]
  },
  {
   "cell_type": "markdown",
   "metadata": {},
   "source": [
    "![](seating_model_basic.png)"
   ]
  },
  {
   "cell_type": "markdown",
   "metadata": {},
   "source": [
    "If we think of each family as a \"supply of individuals\" and each table as a \"demand of individuals\", then we can rephrase our original task as the problem of sending people from families $f$ to tables $t$ so that everyone is assigned to some table, the tables' capacities are respected, and no table gets more than $k_{\\max} = 3$ members of the same family.\n",
    "\n",
    "$$\n",
    "\\begin{align*}\n",
    "    \\min \\quad & \\sum_{t, f} x_{ft}\\\\\n",
    "    \\text{s.t.} \\quad & \\sum\\limits_{f} x_{ft} \\leq c_t && \\forall \\, t \\in T \\\\\n",
    "    & \\sum\\limits_{t} x_{ft} = m_f && \\forall \\, f \\in F \\\\\n",
    "    & 0 \\leq x_{ft} \\leq k_{\\max}.\n",
    "\\end{align*}\n",
    "$$\n",
    "\n",
    "\n",
    "A Pyomo version of this model is given in the next cell. After that we will show how to reformulate the calculation using network algorithms."
   ]
  },
  {
   "cell_type": "code",
   "execution_count": 9,
   "metadata": {},
   "outputs": [
    {
     "data": {
      "text/html": [
       "<div>\n",
       "<style scoped>\n",
       "    .dataframe tbody tr th:only-of-type {\n",
       "        vertical-align: middle;\n",
       "    }\n",
       "\n",
       "    .dataframe tbody tr th {\n",
       "        vertical-align: top;\n",
       "    }\n",
       "\n",
       "    .dataframe thead th {\n",
       "        text-align: right;\n",
       "    }\n",
       "</style>\n",
       "<table border=\"1\" class=\"dataframe\">\n",
       "  <thead>\n",
       "    <tr style=\"text-align: right;\">\n",
       "      <th></th>\n",
       "      <th>table 0</th>\n",
       "      <th>table 1</th>\n",
       "      <th>table 2</th>\n",
       "      <th>table 3</th>\n",
       "      <th>table 4</th>\n",
       "    </tr>\n",
       "    <tr>\n",
       "      <th>family</th>\n",
       "      <th></th>\n",
       "      <th></th>\n",
       "      <th></th>\n",
       "      <th></th>\n",
       "      <th></th>\n",
       "    </tr>\n",
       "  </thead>\n",
       "  <tbody>\n",
       "    <tr>\n",
       "      <th>0</th>\n",
       "      <td>0</td>\n",
       "      <td>3</td>\n",
       "      <td>0</td>\n",
       "      <td>0</td>\n",
       "      <td>3</td>\n",
       "    </tr>\n",
       "    <tr>\n",
       "      <th>1</th>\n",
       "      <td>1</td>\n",
       "      <td>1</td>\n",
       "      <td>3</td>\n",
       "      <td>0</td>\n",
       "      <td>3</td>\n",
       "    </tr>\n",
       "    <tr>\n",
       "      <th>2</th>\n",
       "      <td>0</td>\n",
       "      <td>0</td>\n",
       "      <td>2</td>\n",
       "      <td>0</td>\n",
       "      <td>0</td>\n",
       "    </tr>\n",
       "    <tr>\n",
       "      <th>3</th>\n",
       "      <td>3</td>\n",
       "      <td>3</td>\n",
       "      <td>2</td>\n",
       "      <td>1</td>\n",
       "      <td>0</td>\n",
       "    </tr>\n",
       "    <tr>\n",
       "      <th>4</th>\n",
       "      <td>3</td>\n",
       "      <td>1</td>\n",
       "      <td>3</td>\n",
       "      <td>3</td>\n",
       "      <td>3</td>\n",
       "    </tr>\n",
       "    <tr>\n",
       "      <th>5</th>\n",
       "      <td>1</td>\n",
       "      <td>0</td>\n",
       "      <td>0</td>\n",
       "      <td>0</td>\n",
       "      <td>0</td>\n",
       "    </tr>\n",
       "  </tbody>\n",
       "</table>\n",
       "</div>"
      ],
      "text/plain": [
       "        table 0  table 1  table 2  table 3  table 4\n",
       "family                                             \n",
       "0             0        3        0        0        3\n",
       "1             1        1        3        0        3\n",
       "2             0        0        2        0        0\n",
       "3             3        3        2        1        0\n",
       "4             3        1        3        3        3\n",
       "5             1        0        0        0        0"
      ]
     },
     "metadata": {},
     "output_type": "display_data"
    },
    {
     "name": "stdout",
     "output_type": "stream",
     "text": [
      "objective:       39.0\n",
      "places at table: [8, 8, 10, 4, 9]\n",
      "members seated:  [6, 8, 2, 9, 13, 1]\n"
     ]
    }
   ],
   "source": [
    "def seating_allocation_maximize_flow_to_tables(\n",
    "    members, capacity, kmax, domain=pyo.NonNegativeReals\n",
    "):\n",
    "    m = pyo.ConcreteModel(\"Seating arrangement as network problem\")\n",
    "    m.F = pyo.Set(initialize=range(len(members)))\n",
    "    m.T = pyo.Set(initialize=range(len(capacity)))\n",
    "    m.M = pyo.Param(m.F, initialize=members)\n",
    "    m.C = pyo.Param(m.T, initialize=capacity)\n",
    "    m.x = pyo.Var(m.F, m.T, bounds=(0, kmax), domain=domain)\n",
    "\n",
    "    @m.Objective(sense=pyo.maximize)\n",
    "    def goal(m):\n",
    "        return pyo.quicksum(m.x[f, t] for f in m.F for t in m.T)\n",
    "\n",
    "    @m.Constraint(m.T)\n",
    "    def capacity(m, t):\n",
    "        return pyo.quicksum(m.x[f, t] for f in m.F) <= m.C[t]\n",
    "\n",
    "    @m.Constraint(m.F)\n",
    "    def seat(m, f):\n",
    "        return pyo.quicksum(m.x[f, t] for t in m.T) == m.M[f]\n",
    "\n",
    "    return m\n",
    "\n",
    "\n",
    "seatplan = seating_allocation_maximize_flow_to_tables(\n",
    "    members=[6, 8, 2, 9, 13, 1],\n",
    "    capacity=[8, 8, 10, 4, 9],\n",
    "    kmax=3,\n",
    "    domain=pyo.NonNegativeIntegers,\n",
    ")\n",
    "results = SOLVER.solve(seatplan)\n",
    "report(seatplan, results, type=int)"
   ]
  },
  {
   "cell_type": "markdown",
   "metadata": {},
   "source": [
    "By adding two more nodes to the graph above, we can formulate the problem as a slightly different flow problem where all the data is formulated as the arc capacity, see figure below. In a network like this, we can imagine a problem of sending resources from the _source node_ \"door\" to the _target node_ \"seat\", subject to the restriction that for any node that is neither the source nor the target, the sum of incoming and outgoing flows are equal (_balance constraint_). If there exists a flow in this new graph that respects the arc capacities and the sum of outgoing flows at the source is equal to the total number of individuals, that is $\\sum_{f \\in F} m_f$, it means that there exists a family-to-table assignment that meets our requirements."
   ]
  },
  {
   "cell_type": "markdown",
   "metadata": {},
   "source": [
    "![](seating_flow_model.png)"
   ]
  },
  {
   "cell_type": "markdown",
   "metadata": {},
   "source": [
    "Thus, if we maximize the total flow going out of `door` and reaching `seat` and it matches the total number of individuals, the problem is solved. As unimpressive as this sounds, this means that it can be treated as a special case of a famous **maximum flow problem**, for which there exist algorithms that are way more efficient than a generic LO solver. One such algorithm is the Bellman-Ford algorithm, implicitly invoked in the following code using the Python package `networkx`."
   ]
  },
  {
   "cell_type": "code",
   "execution_count": 10,
   "metadata": {
    "id": "aSJ7UOokVfnu"
   },
   "outputs": [
    {
     "data": {
      "text/html": [
       "<div>\n",
       "<style scoped>\n",
       "    .dataframe tbody tr th:only-of-type {\n",
       "        vertical-align: middle;\n",
       "    }\n",
       "\n",
       "    .dataframe tbody tr th {\n",
       "        vertical-align: top;\n",
       "    }\n",
       "\n",
       "    .dataframe thead th {\n",
       "        text-align: right;\n",
       "    }\n",
       "</style>\n",
       "<table border=\"1\" class=\"dataframe\">\n",
       "  <thead>\n",
       "    <tr style=\"text-align: right;\">\n",
       "      <th></th>\n",
       "      <th>f0</th>\n",
       "      <th>f1</th>\n",
       "      <th>f2</th>\n",
       "      <th>f3</th>\n",
       "      <th>f4</th>\n",
       "      <th>f5</th>\n",
       "    </tr>\n",
       "  </thead>\n",
       "  <tbody>\n",
       "    <tr>\n",
       "      <th>t0</th>\n",
       "      <td>3</td>\n",
       "      <td>0</td>\n",
       "      <td>0</td>\n",
       "      <td>1</td>\n",
       "      <td>3</td>\n",
       "      <td>1</td>\n",
       "    </tr>\n",
       "    <tr>\n",
       "      <th>t1</th>\n",
       "      <td>0</td>\n",
       "      <td>2</td>\n",
       "      <td>0</td>\n",
       "      <td>3</td>\n",
       "      <td>3</td>\n",
       "      <td>0</td>\n",
       "    </tr>\n",
       "    <tr>\n",
       "      <th>t2</th>\n",
       "      <td>0</td>\n",
       "      <td>3</td>\n",
       "      <td>1</td>\n",
       "      <td>3</td>\n",
       "      <td>3</td>\n",
       "      <td>0</td>\n",
       "    </tr>\n",
       "    <tr>\n",
       "      <th>t3</th>\n",
       "      <td>0</td>\n",
       "      <td>1</td>\n",
       "      <td>0</td>\n",
       "      <td>0</td>\n",
       "      <td>3</td>\n",
       "      <td>0</td>\n",
       "    </tr>\n",
       "    <tr>\n",
       "      <th>t4</th>\n",
       "      <td>3</td>\n",
       "      <td>2</td>\n",
       "      <td>1</td>\n",
       "      <td>2</td>\n",
       "      <td>1</td>\n",
       "      <td>0</td>\n",
       "    </tr>\n",
       "  </tbody>\n",
       "</table>\n",
       "</div>"
      ],
      "text/plain": [
       "    f0  f1  f2  f3  f4  f5\n",
       "t0   3   0   0   1   3   1\n",
       "t1   0   2   0   3   3   0\n",
       "t2   0   3   1   3   3   0\n",
       "t3   0   1   0   0   3   0\n",
       "t4   3   2   1   2   1   0"
      ]
     },
     "execution_count": 10,
     "metadata": {},
     "output_type": "execute_result"
    }
   ],
   "source": [
    "def model_as_network(members, capacity, kmax):\n",
    "    # create lists of families and tables\n",
    "    families = [f\"f{i}\" for i in range(len(members))]\n",
    "    tables = [f\"t{j}\" for j in range(len(capacity))]\n",
    "\n",
    "    # create digraphy object\n",
    "    G = nx.DiGraph()\n",
    "\n",
    "    # add edges\n",
    "    G.add_edges_from([\"door\", f, {\"capacity\": n}] for f, n in zip(families, members))\n",
    "    G.add_edges_from([(f, t) for f in families for t in tables], capacity=kmax)\n",
    "    G.add_edges_from([t, \"seat\", {\"capacity\": n}] for t, n in zip(tables, capacity))\n",
    "\n",
    "    return G\n",
    "\n",
    "\n",
    "members = [6, 8, 2, 9, 13, 1]\n",
    "capacity = [8, 8, 10, 4, 9]\n",
    "G = model_as_network(members, capacity, kmax=3)\n",
    "\n",
    "# we solve the maximum flow problem using the networkx function\n",
    "flow_value, flow_dict = nx.maximum_flow(G, \"door\", \"seat\")\n",
    "\n",
    "# we parse and table the solution\n",
    "families = [f\"f{i}\" for i in range(len(members))]\n",
    "tables = [f\"t{j}\" for j in range(len(capacity))]\n",
    "pd.DataFrame(flow_dict).loc[tables, families].astype(\"int\")"
   ]
  },
  {
   "cell_type": "markdown",
   "metadata": {},
   "source": [
    "Even for this very small example, we see that network algorithms generate a solution significantly faster than using the MILO formulation above. Realizing that the optimization problem we are tackling is a particular problem class for which a tailored algorithm is available can result in solving times orders of magnitude faster, particularly for large instances."
   ]
  },
  {
   "cell_type": "code",
   "execution_count": 11,
   "metadata": {},
   "outputs": [
    {
     "name": "stdout",
     "output_type": "stream",
     "text": [
      "CPU times: user 405 µs, sys: 8 µs, total: 413 µs\n",
      "Wall time: 414 µs\n",
      "CPU times: user 3.9 ms, sys: 5.22 ms, total: 9.13 ms\n",
      "Wall time: 16.3 ms\n"
     ]
    }
   ],
   "source": [
    "%time flow_value, flow_dict = nx.maximum_flow(G, 'door', 'seat')\n",
    "\n",
    "%time results, seatplan = seating_allocation_maximize_flow_to_tables(members=[6, 8, 2, 9, 13, 1], capacity=[8, 8, 10, 4, 9], kmax=3, domain=pyo.NonNegativeIntegers)"
   ]
  },
  {
   "cell_type": "markdown",
   "metadata": {},
   "source": [
    "## A more systematic comparison between LO solvers and network algorithms\n",
    "\n",
    "We now create increasingly larger instances of the dinner seating allocation problem and compare the performance of the MILO solvers `highs`, `cbc`, `gurobi`, and the algorithm `maximum_flow` from the `networkx` library. We will use the following code to generate the instances."
   ]
  },
  {
   "cell_type": "code",
   "execution_count": null,
   "metadata": {},
   "outputs": [],
   "source": [
    "from tqdm.notebook import tqdm\n",
    "from time import perf_counter as pc\n",
    "\n",
    "\n",
    "def max_flow(members, capacity, kmax, domain=pyo.NonNegativeReals):\n",
    "    m = pyo.ConcreteModel(\"Seating arrangement as network problem\")\n",
    "    m.F = pyo.Set(initialize=range(len(members)))\n",
    "    m.T = pyo.Set(initialize=range(len(capacity)))\n",
    "    m.M = pyo.Param(m.F, initialize=members)\n",
    "    m.C = pyo.Param(m.T, initialize=capacity)\n",
    "    m.x = pyo.Var(m.F, m.T, bounds=(0, kmax), domain=domain)\n",
    "\n",
    "    @m.Objective(sense=pyo.maximize)\n",
    "    def goal(m):\n",
    "        return pyo.quicksum(m.x[f, t] for f in m.F for t in m.T)\n",
    "\n",
    "    @m.Constraint(m.T)\n",
    "    def capacity(m, t):\n",
    "        return pyo.quicksum(m.x[f, t] for f in m.F) <= m.C[t]\n",
    "\n",
    "    @m.Constraint(m.F)\n",
    "    def seat(m, f):\n",
    "        return pyo.quicksum(m.x[f, t] for t in m.T) == m.M[f]\n",
    "\n",
    "    return m\n",
    "\n",
    "\n",
    "cbc = pyo.SolverFactory(\"cbc\")\n",
    "gurobi = pyo.SolverFactory(\"gurobi_direct\")\n",
    "highs = pyo.SolverFactory(\"appsi_highs\")\n",
    "\n",
    "\n",
    "def Reset(model) -> None:\n",
    "    for v in model.component_data_objects(ctype=pyo.Var, descend_into=True):\n",
    "        v.set_value(None)\n",
    "\n",
    "\n",
    "np.random.seed(2023)\n",
    "kmax = 3\n",
    "nmax = 500\n",
    "mmax = 2 * nmax\n",
    "sizes = list(zip(range(10, nmax, 10), range(20, mmax, 20)))\n",
    "\n",
    "df = pd.DataFrame(index=[\"cbc\", \"gurobi\", \"nx\", \"highs\"], columns=sizes)\n",
    "for n, m in tqdm(sizes):\n",
    "    members, capacity = np.random.randint(1, 10, n), np.random.randint(3, 8, m)\n",
    "    model = max_flow(members, capacity, kmax)\n",
    "    t = pc()\n",
    "    cbc.solve(model)\n",
    "    df.loc[\"cbc\"][(n, m)] = pc() - t\n",
    "    Reset(model)\n",
    "    t = pc()\n",
    "    gurobi.solve(model)\n",
    "    df.loc[\"gurobi\"][(n, m)] = pc() - t\n",
    "    t = pc()\n",
    "    highs.solve(model)\n",
    "    df.loc[\"highs\"][(n, m)] = pc() - t\n",
    "    Reset(model)\n",
    "    G = model_as_network(members, capacity, kmax)\n",
    "    t = pc()\n",
    "    nx.maximum_flow(G, \"door\", \"seat\")\n",
    "    df.loc[\"nx\"][(n, m)] = pc() - t"
   ]
  },
  {
   "cell_type": "markdown",
   "metadata": {},
   "source": [
    "We stored all the runtimes in a dataframe, which we can now plot. We see that the network algorithm `maximum_flow` is the fastest, followed by `highs`, `cbc`, and `gurobi`. The network algorithm is the fastest because it is able to exploit the special structure of the problem, which the MILO solvers do not."
   ]
  },
  {
   "cell_type": "code",
   "execution_count": 17,
   "metadata": {},
   "outputs": [
    {
     "data": {
      "image/png": "[encoded data removed]",
      "text/plain": [
       "<Figure size 1200x600 with 1 Axes>"
      ]
     },
     "metadata": {},
     "output_type": "display_data"
    }
   ],
   "source": [
    "plt.rcParams[\"figure.figsize\"] = [12, 6]\n",
    "df.transpose().plot()\n",
    "plt.ylabel(\"runtime (s)\")\n",
    "plt.xticks(\n",
    "    range(len(df.columns)),\n",
    "    df.columns,\n",
    "    rotation=45,\n",
    "    ha=\"right\",\n",
    "    fontsize=8,\n",
    "    rotation_mode=\"anchor\",\n",
    ")\n",
    "plt.xlabel(\"Size of the instances expressed in (family members, tables)\")\n",
    "plt.tight_layout()\n",
    "plt.show()"
   ]
  }
 ],
 "metadata": {
  "kernelspec": {
   "display_name": "Python 3 (ipykernel)",
   "language": "python",
   "name": "python3"
  },
  "language_info": {
   "codemirror_mode": {
    "name": "ipython",
    "version": 3
   },
   "file_extension": ".py",
   "mimetype": "text/x-python",
   "name": "python",
   "nbconvert_exporter": "python",
   "pygments_lexer": "ipython3",
   "version": "3.10.10"
  }
 },
 "nbformat": 4,
 "nbformat_minor": 4
}
